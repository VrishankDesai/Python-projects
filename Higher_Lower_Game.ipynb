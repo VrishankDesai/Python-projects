{
  "nbformat": 4,
  "nbformat_minor": 0,
  "metadata": {
    "colab": {
      "provenance": [],
      "authorship_tag": "ABX9TyPdDGX//ntDRGdyd+2OhM+2",
      "include_colab_link": true
    },
    "kernelspec": {
      "name": "python3",
      "display_name": "Python 3"
    },
    "language_info": {
      "name": "python"
    }
  },
  "cells": [
    {
      "cell_type": "markdown",
      "metadata": {
        "id": "view-in-github",
        "colab_type": "text"
      },
      "source": [
        "<a href=\"https://colab.research.google.com/github/VrishankDesai/Python-projects/blob/main/Higher_Lower_Game.ipynb\" target=\"_parent\"><img src=\"https://colab.research.google.com/assets/colab-badge.svg\" alt=\"Open In Colab\"/></a>"
      ]
    },
    {
      "cell_type": "code",
      "execution_count": 6,
      "metadata": {
        "colab": {
          "base_uri": "https://localhost:8080/"
        },
        "id": "YfvmnvN47ZBP",
        "outputId": "362f6747-4a9f-4919-a9a7-18abb1f182c9"
      },
      "outputs": [
        {
          "output_type": "stream",
          "name": "stdout",
          "text": [
            "Requirement already satisfied: art in /usr/local/lib/python3.11/dist-packages (6.4)\n",
            " _  _  _        _                _                           \n",
            "| || |(_) __ _ | |_   ___  _ _  | |    ___ __ __ __ ___  _ _ \n",
            "| __ || |/ _` || ' \\ / -_)| '_| | |__ / _ \\\\ V  V // -_)| '_|\n",
            "|_||_||_|\\__, ||_||_|\\___||_|   |____|\\___/ \\_/\\_/ \\___||_|  \n",
            "         |___/                                               \n",
            "\n",
            "Compare A: Example Person, a Example Description, from Example Country.\n",
            "---------------------VS---------------------\n",
            "Against B: Example Person, a Example Description, from Example Country.\n",
            "Who has more followers, Type 'A' or 'B'? B\n",
            "Sorry, that's wrong. Final score 0\n"
          ]
        }
      ],
      "source": [
        "!pip install art\n",
        "import art\n",
        "import random\n",
        "import os\n",
        "\n",
        "\n",
        "def choices():\n",
        "    return {'name': 'Example Person', 'description': 'Example Description', 'country': 'Example Country', 'follower_count': 1000}\n",
        "\n",
        "def game_play():\n",
        "  def check_followercount(a, b):\n",
        "    a_count = a['follower_count']\n",
        "    b_count = b['follower_count']\n",
        "    if a_count > b_count:\n",
        "      return a_count\n",
        "    elif a_count < b_count:\n",
        "      return b_count\n",
        "\n",
        "  def high_low():\n",
        "    print(f\"Compare A: {a['name']}, a {a['description']}, from {a['country']}.\")\n",
        "\n",
        "    print(\"---------------------VS---------------------\")\n",
        "\n",
        "    print(f\"Against B: {b['name']}, a {b['description']}, from {b['country']}.\")\n",
        "\n",
        "\n",
        "  play_game = True\n",
        "  score = 0\n",
        "  b = choices()\n",
        "  while play_game:\n",
        "    print(art.text2art(\"Higher Lower\", font=\"small\"))\n",
        "    a = b\n",
        "    b = choices()\n",
        "\n",
        "    high_low()\n",
        "    highest_follower = check_followercount(a, b)\n",
        "    guess = input(\"Who has more followers, Type 'A' or 'B'? \").lower()\n",
        "    if guess == 'a':\n",
        "      guess = a\n",
        "    elif guess == 'b':\n",
        "      guess = b\n",
        "\n",
        "    if guess['follower_count'] == highest_follower:\n",
        "      score += 1\n",
        "      os.system('cls' if os.name == 'nt' else 'clear')\n",
        "      a = guess\n",
        "      print(f\"You're right! Current score: {score}\")\n",
        "\n",
        "    else:\n",
        "      print(f\"Sorry, that's wrong. Final score {score}\")\n",
        "      play_game = False\n",
        "\n",
        "game_play()"
      ]
    }
  ]
}