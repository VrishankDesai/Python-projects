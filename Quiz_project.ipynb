{
  "nbformat": 4,
  "nbformat_minor": 0,
  "metadata": {
    "colab": {
      "provenance": [],
      "authorship_tag": "ABX9TyOac6ELZZhLPm+s31sy4d/x",
      "include_colab_link": true
    },
    "kernelspec": {
      "name": "python3",
      "display_name": "Python 3"
    },
    "language_info": {
      "name": "python"
    }
  },
  "cells": [
    {
      "cell_type": "markdown",
      "metadata": {
        "id": "view-in-github",
        "colab_type": "text"
      },
      "source": [
        "<a href=\"https://colab.research.google.com/github/VrishankDesai/Python-projects/blob/main/Quiz_project.ipynb\" target=\"_parent\"><img src=\"https://colab.research.google.com/assets/colab-badge.svg\" alt=\"Open In Colab\"/></a>"
      ]
    },
    {
      "cell_type": "code",
      "execution_count": 5,
      "metadata": {
        "colab": {
          "base_uri": "https://localhost:8080/",
          "height": 384
        },
        "id": "pq9ecz6ODitH",
        "outputId": "94819f1e-4801-45ac-e1af-1677ca0e383b"
      },
      "outputs": [
        {
          "output_type": "error",
          "ename": "ModuleNotFoundError",
          "evalue": "No module named 'question_model'",
          "traceback": [
            "\u001b[0;31m---------------------------------------------------------------------------\u001b[0m",
            "\u001b[0;31mModuleNotFoundError\u001b[0m                       Traceback (most recent call last)",
            "\u001b[0;32m<ipython-input-5-8d0aac45dd9d>\u001b[0m in \u001b[0;36m<cell line: 0>\u001b[0;34m()\u001b[0m\n\u001b[0;32m----> 1\u001b[0;31m \u001b[0;32mfrom\u001b[0m \u001b[0mquestion_model\u001b[0m \u001b[0;32mimport\u001b[0m \u001b[0mQuestion\u001b[0m\u001b[0;34m\u001b[0m\u001b[0;34m\u001b[0m\u001b[0m\n\u001b[0m\u001b[1;32m      2\u001b[0m \u001b[0;32mfrom\u001b[0m \u001b[0mdata\u001b[0m \u001b[0;32mimport\u001b[0m \u001b[0mquestion_data\u001b[0m\u001b[0;34m\u001b[0m\u001b[0;34m\u001b[0m\u001b[0m\n\u001b[1;32m      3\u001b[0m \u001b[0;32mfrom\u001b[0m \u001b[0mquiz_brain\u001b[0m \u001b[0;32mimport\u001b[0m \u001b[0mQuizBrain\u001b[0m\u001b[0;34m\u001b[0m\u001b[0;34m\u001b[0m\u001b[0m\n\u001b[1;32m      4\u001b[0m \u001b[0;34m\u001b[0m\u001b[0m\n\u001b[1;32m      5\u001b[0m \u001b[0mquestion_bank\u001b[0m \u001b[0;34m=\u001b[0m \u001b[0;34m[\u001b[0m\u001b[0;34m]\u001b[0m\u001b[0;34m\u001b[0m\u001b[0;34m\u001b[0m\u001b[0m\n",
            "\u001b[0;31mModuleNotFoundError\u001b[0m: No module named 'question_model'",
            "",
            "\u001b[0;31m---------------------------------------------------------------------------\u001b[0;32m\nNOTE: If your import is failing due to a missing package, you can\nmanually install dependencies using either !pip or !apt.\n\nTo view examples of installing some common dependencies, click the\n\"Open Examples\" button below.\n\u001b[0;31m---------------------------------------------------------------------------\u001b[0m\n"
          ],
          "errorDetails": {
            "actions": [
              {
                "action": "open_url",
                "actionText": "Open Examples",
                "url": "/notebooks/snippets/importing_libraries.ipynb"
              }
            ]
          }
        }
      ],
      "source": [
        "from question_model import Question\n",
        "from data import question_data\n",
        "from quiz_brain import QuizBrain\n",
        "\n",
        "question_bank = []\n",
        "\n",
        "for question in question_data:\n",
        "  question_text = question[\"text\"]\n",
        "  question_answer = question[\"answer\"]\n",
        "  new_question = Question(question_text, question_answer)\n",
        "  question_bank.append(new_question)\n",
        "\n",
        "quiz = QuizBrain(question_bank)\n",
        "\n",
        "while quiz.still_has_questions():\n",
        "  quiz.next_question()\n",
        "else:\n",
        "  print(\"You've completed the quiz\")\n",
        "  print(f\"Your final score was {quiz.score}/{quiz.question_number}.\")"
      ]
    },
    {
      "cell_type": "code",
      "source": [
        "question_data = [\n",
        "{\"text\": \"A slug's blood is green.\", \"answer\": \"True\"},\n",
        "{\"text\": \"The loudest animal is the African Elephant.\", \"answer\": \"False\"},\n",
        "{\"text\": \"Approximately one quarter of human bones are in the feet.\", \"answer\": \"True\"},\n",
        "{\"text\": \"The total surface area of a human lungs is the size of a football pitch.\", \"answer\": \"True\"},\n",
        "{\"text\": \"In West Virginia, USA, if you accidentally hit an animal with your car, you are free to take it home to eat.\", \"answer\": \"True\"},\n",
        "{\"text\": \"In London, UK, if you happen to die in the House of Parliament, you are entitled to a state funeral.\", \"answer\": \"False\"},\n",
        "{\"text\": \"It is illegal to pee in the Ocean in Portugal.\", \"answer\": \"True\"},\n",
        "{\"text\": \"You can lead a cow down stairs but not up stairs.\", \"answer\": \"False\"},\n",
        "{\"text\": \"Google was originally called 'Backrub'.\", \"answer\": \"True\"},\n",
        "{\"text\": \"Buzz Aldrin's mother's maiden name was 'Moon'.\", \"answer\": \"True\"},\n",
        "{\"text\": \"No piece of square dry paper can be folded in half more than 7 times.\", \"answer\": \"False\"},\n",
        "{\"text\": \"A few ounces of chocolate can to kill a small dog.\", \"answer\": \"True\"}\n",
        "]"
      ],
      "metadata": {
        "id": "Ru-C9qZ9DtgY"
      },
      "execution_count": 2,
      "outputs": []
    },
    {
      "cell_type": "code",
      "source": [
        "class Question:\n",
        "\n",
        "    def __init__(self, q_text, q_answer):\n",
        "        self.text = q_text\n",
        "        self.answer = q_answer"
      ],
      "metadata": {
        "id": "0AdLjV2CDxF9"
      },
      "execution_count": 3,
      "outputs": []
    },
    {
      "cell_type": "code",
      "source": [
        "class QuizBrain:\n",
        "  def __init__(self, q_list):\n",
        "    self.question_number = 0\n",
        "    self.question_list = q_list\n",
        "    self.score = 0\n",
        "\n",
        "  def still_has_questions(self):\n",
        "    return self.question_number < len(self.question_list)\n",
        "\n",
        "  def next_question(self):\n",
        "    current_question = self.question_list[self.question_number]\n",
        "    self.question_number += 1\n",
        "    user_answer = input(f\"Q.{self.question_number}: {current_question.text} (True/False)?: \")\n",
        "    self.check_answer(user_answer, current_question.answer)\n",
        "\n",
        "  def check_answer(self, user_answer, correct_answer):\n",
        "    if user_answer.lower() == correct_answer.lower():\n",
        "        self.score += 1\n",
        "        print(\"You got it right!\")\n",
        "    else:\n",
        "        print(\"That's not quite right.\")\n",
        "    print(f\"The correct answer was {correct_answer}.\")\n",
        "    print(f\"Your current score is: {self.score}/{self.question_number}.\")\n",
        "    print(\"\\n\")\n",
        ""
      ],
      "metadata": {
        "id": "SBdVMu3dDzTm"
      },
      "execution_count": 4,
      "outputs": []
    }
  ]
}