{
  "nbformat": 4,
  "nbformat_minor": 0,
  "metadata": {
    "colab": {
      "provenance": [],
      "authorship_tag": "ABX9TyNMLa+kGP+vCKok7Hpf1jGS",
      "include_colab_link": true
    },
    "kernelspec": {
      "name": "python3",
      "display_name": "Python 3"
    },
    "language_info": {
      "name": "python"
    }
  },
  "cells": [
    {
      "cell_type": "markdown",
      "metadata": {
        "id": "view-in-github",
        "colab_type": "text"
      },
      "source": [
        "<a href=\"https://colab.research.google.com/github/VrishankDesai/Python-projects/blob/main/Calculator_project.ipynb\" target=\"_parent\"><img src=\"https://colab.research.google.com/assets/colab-badge.svg\" alt=\"Open In Colab\"/></a>"
      ]
    },
    {
      "cell_type": "code",
      "source": [
        "!pip install art"
      ],
      "metadata": {
        "colab": {
          "base_uri": "https://localhost:8080/"
        },
        "id": "kpbLI7FUzXBR",
        "outputId": "dfe97e07-a966-433b-b7df-687b918a05ae"
      },
      "execution_count": 2,
      "outputs": [
        {
          "output_type": "stream",
          "name": "stdout",
          "text": [
            "Collecting art\n",
            "  Downloading art-6.4-py3-none-any.whl.metadata (71 kB)\n",
            "\u001b[2K     \u001b[90m━━━━━━━━━━━━━━━━━━━━━━━━━━━━━━━━━━━━━━━━\u001b[0m \u001b[32m71.6/71.6 kB\u001b[0m \u001b[31m1.9 MB/s\u001b[0m eta \u001b[36m0:00:00\u001b[0m\n",
            "\u001b[?25hDownloading art-6.4-py3-none-any.whl (608 kB)\n",
            "\u001b[2K   \u001b[90m━━━━━━━━━━━━━━━━━━━━━━━━━━━━━━━━━━━━━━━━\u001b[0m \u001b[32m608.6/608.6 kB\u001b[0m \u001b[31m11.2 MB/s\u001b[0m eta \u001b[36m0:00:00\u001b[0m\n",
            "\u001b[?25hInstalling collected packages: art\n",
            "Successfully installed art-6.4\n"
          ]
        }
      ]
    },
    {
      "cell_type": "code",
      "execution_count": null,
      "metadata": {
        "colab": {
          "base_uri": "https://localhost:8080/"
        },
        "id": "T3CUFflVzFbD",
        "outputId": "8326196f-09db-49cf-c4d7-a72c99f4daf8"
      },
      "outputs": [
        {
          "output_type": "stream",
          "name": "stdout",
          "text": [
            "  ____         _               _         _                \n",
            " / ___|  __ _ | |  ___  _   _ | |  __ _ | |_   ___   _ __ \n",
            "| |     / _` || | / __|| | | || | / _` || __| / _ \\ | '__|\n",
            "| |___ | (_| || || (__ | |_| || || (_| || |_ | (_) || |   \n",
            " \\____| \\__,_||_| \\___| \\__,_||_| \\__,_| \\__| \\___/ |_|   \n",
            "                                                          \n",
            "\n",
            "What's the first number?: 7\n",
            "+\n",
            "-\n",
            "*\n",
            "/\n",
            "Pick an operation from the line above: *\n",
            "What's the next number?: 10\n",
            "7.0 * 10.0 = 70.0\n",
            "Type 'y' to continue calculating with 70.0, or type 'n' to start a new calculation: y\n",
            "Pick an operation from the line above: +\n",
            "What's the next number?: 20\n",
            "70.0 + 20.0 = 90.0\n"
          ]
        }
      ],
      "source": [
        "from art import *\n",
        "\n",
        "def add(n1, n2):\n",
        "    return n1 + n2\n",
        "\n",
        "def subtract(n1, n2):\n",
        "    return n1 - n2\n",
        "\n",
        "def multiply(n1, n2):\n",
        "    return n1 * n2\n",
        "\n",
        "def divide(n1, n2):\n",
        "    return n1 / n2\n",
        "\n",
        "operations = {\n",
        "  \"+\":add,\n",
        "  \"-\": subtract,\n",
        "  \"*\": multiply,\n",
        "  \"/\": divide\n",
        "}\n",
        "\n",
        "def calculator():\n",
        "  tprint(\"Calculator\")\n",
        "  num1 = float(input(\"What's the first number?: \"))\n",
        "\n",
        "  for symbol in operations:\n",
        "    print(symbol)\n",
        "\n",
        "  cont_calc = True\n",
        "\n",
        "  while cont_calc:\n",
        "    operation_symbol = input(\"Pick an operation from the line above: \")\n",
        "    num2 = float(input (\"What's the next number?: \"))\n",
        "    answer = operations[operation_symbol](num1, num2)\n",
        "    print(f\"{num1} {operation_symbol} {num2} = {answer}\")\n",
        "    continue_calc = input(f\"Type 'y' to continue calculating with {answer}, or type 'n' to start a new calculation: \")\n",
        "    if continue_calc == \"y\":\n",
        "      num1 = answer\n",
        "    else:\n",
        "      cont_calc = False\n",
        "      calculator()\n",
        "\n",
        "calculator()"
      ]
    }
  ]
}