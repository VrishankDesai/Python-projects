{
  "nbformat": 4,
  "nbformat_minor": 0,
  "metadata": {
    "colab": {
      "provenance": [],
      "authorship_tag": "ABX9TyMTQVaKf0El9MArlZM3y9kD",
      "include_colab_link": true
    },
    "kernelspec": {
      "name": "python3",
      "display_name": "Python 3"
    },
    "language_info": {
      "name": "python"
    }
  },
  "cells": [
    {
      "cell_type": "markdown",
      "metadata": {
        "id": "view-in-github",
        "colab_type": "text"
      },
      "source": [
        "<a href=\"https://colab.research.google.com/github/VrishankDesai/Python-projects/blob/main/Caesar_Cypher.ipynb\" target=\"_parent\"><img src=\"https://colab.research.google.com/assets/colab-badge.svg\" alt=\"Open In Colab\"/></a>"
      ]
    },
    {
      "cell_type": "code",
      "source": [
        "!pip install art"
      ],
      "metadata": {
        "colab": {
          "base_uri": "https://localhost:8080/"
        },
        "id": "yQ1KTTzPyRTl",
        "outputId": "ed187627-ba8c-43ef-a05c-85299813c2c5"
      },
      "execution_count": 3,
      "outputs": [
        {
          "output_type": "stream",
          "name": "stdout",
          "text": [
            "Collecting art\n",
            "  Downloading art-6.4-py3-none-any.whl.metadata (71 kB)\n",
            "\u001b[?25l     \u001b[90m━━━━━━━━━━━━━━━━━━━━━━━━━━━━━━━━━━━━━━━━\u001b[0m \u001b[32m0.0/71.6 kB\u001b[0m \u001b[31m?\u001b[0m eta \u001b[36m-:--:--\u001b[0m\r\u001b[2K     \u001b[91m━━━━━━━━━━━━━━━━━━━━━━━━━━━━━━━━━━\u001b[0m\u001b[90m╺\u001b[0m\u001b[90m━━━━━\u001b[0m \u001b[32m61.4/71.6 kB\u001b[0m \u001b[31m2.0 MB/s\u001b[0m eta \u001b[36m0:00:01\u001b[0m\r\u001b[2K     \u001b[90m━━━━━━━━━━━━━━━━━━━━━━━━━━━━━━━━━━━━━━━━\u001b[0m \u001b[32m71.6/71.6 kB\u001b[0m \u001b[31m1.7 MB/s\u001b[0m eta \u001b[36m0:00:00\u001b[0m\n",
            "\u001b[?25hDownloading art-6.4-py3-none-any.whl (608 kB)\n",
            "\u001b[2K   \u001b[90m━━━━━━━━━━━━━━━━━━━━━━━━━━━━━━━━━━━━━━━━\u001b[0m \u001b[32m608.6/608.6 kB\u001b[0m \u001b[31m11.0 MB/s\u001b[0m eta \u001b[36m0:00:00\u001b[0m\n",
            "\u001b[?25hInstalling collected packages: art\n",
            "Successfully installed art-6.4\n"
          ]
        }
      ]
    },
    {
      "cell_type": "code",
      "source": [
        "from art import *\n",
        "\n",
        "logo = tprint(\"logo\", font=\"standard\")\n",
        "\n",
        "alphabet = ['a', 'b', 'c', 'd', 'e', 'f', 'g', 'h', 'i', 'j', 'k', 'l', 'm', 'n', 'o', 'p', 'q', 'r', 's', 't', 'u', 'v', 'w', 'x', 'y', 'z', 'a', 'b', 'c', 'd', 'e', 'f', 'g', 'h', 'i', 'j', 'k', 'l', 'm', 'n', 'o', 'p', 'q', 'r', 's', 't', 'u', 'v', 'w', 'x', 'y', 'z']\n",
        "\n",
        "def caesar(start_text, shift_amount, cipher_direction):\n",
        "  end_text = \"\"\n",
        "  if cipher_direction == \"decode\":\n",
        "    shift_amount *= -1\n",
        "  for char in start_text:\n",
        "    if char.isalpha():\n",
        "      position = alphabet.index(char)\n",
        "      new_position = position + shift_amount\n",
        "      end_text += alphabet[new_position]\n",
        "    else:\n",
        "      end_text += char\n",
        "  print(f\"Here's the {cipher_direction}d result: {end_text}\\n\")\n",
        "\n",
        "run = True\n",
        "while run:\n",
        "  print(logo) # prints the logo after importing it\n",
        "  direction = input(\"Type 'encode' to encrypt, type 'decode' to decrypt:\\n\")\n",
        "  text = input(\"Type your message:\\n\").lower()\n",
        "  shift = int(input(\"Type the shift number:\\n\"))\n",
        "\n",
        "  if shift > 26:\n",
        "    shift = shift % shift == 0\n",
        "\n",
        "  caesar(start_text=text, shift_amount=shift, cipher_direction=direction)\n",
        "  choice = input(\"Do you want to run this program again?\\nType 'yes' or 'no': \")\n",
        "  if choice == 'no':\n",
        "    run = False\n",
        "    print(\"Goodbye.\")"
      ],
      "metadata": {
        "id": "V_2jxItD58Ar",
        "colab": {
          "base_uri": "https://localhost:8080/"
        },
        "outputId": "4b8362be-9384-4b8d-f616-cbaf8361ad21"
      },
      "execution_count": 5,
      "outputs": [
        {
          "output_type": "stream",
          "name": "stdout",
          "text": [
            " _                      \n",
            "| |  ___    __ _   ___  \n",
            "| | / _ \\  / _` | / _ \\ \n",
            "| || (_) || (_| || (_) |\n",
            "|_| \\___/  \\__, | \\___/ \n",
            "           |___/        \n",
            "\n",
            "None\n",
            "Type 'encode' to encrypt, type 'decode' to decrypt:\n",
            "encode\n",
            "Type your message:\n",
            "hello\n",
            "Type the shift number:\n",
            "22\n",
            "Here's the encoded result: dahhk\n",
            "\n",
            "Do you want to run this program again?\n",
            "Type 'yes' or 'no': no\n",
            "Goodbye.\n"
          ]
        }
      ]
    }
  ]
}