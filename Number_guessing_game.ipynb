{
  "nbformat": 4,
  "nbformat_minor": 0,
  "metadata": {
    "colab": {
      "provenance": [],
      "authorship_tag": "ABX9TyNiai97H5npw/T6dlS9mO/j",
      "include_colab_link": true
    },
    "kernelspec": {
      "name": "python3",
      "display_name": "Python 3"
    },
    "language_info": {
      "name": "python"
    }
  },
  "cells": [
    {
      "cell_type": "markdown",
      "metadata": {
        "id": "view-in-github",
        "colab_type": "text"
      },
      "source": [
        "<a href=\"https://colab.research.google.com/github/VrishankDesai/Python-projects/blob/main/Number_guessing_game.ipynb\" target=\"_parent\"><img src=\"https://colab.research.google.com/assets/colab-badge.svg\" alt=\"Open In Colab\"/></a>"
      ]
    },
    {
      "cell_type": "code",
      "source": [
        "!pip install art"
      ],
      "metadata": {
        "colab": {
          "base_uri": "https://localhost:8080/"
        },
        "id": "v9KjluBI3N6o",
        "outputId": "b3878950-e45e-40a2-9c1d-c3c0e0ff98a3"
      },
      "execution_count": 2,
      "outputs": [
        {
          "output_type": "stream",
          "name": "stdout",
          "text": [
            "Collecting art\n",
            "  Downloading art-6.4-py3-none-any.whl.metadata (71 kB)\n",
            "\u001b[?25l     \u001b[90m━━━━━━━━━━━━━━━━━━━━━━━━━━━━━━━━━━━━━━━━\u001b[0m \u001b[32m0.0/71.6 kB\u001b[0m \u001b[31m?\u001b[0m eta \u001b[36m-:--:--\u001b[0m\r\u001b[2K     \u001b[90m━━━━━━━━━━━━━━━━━━━━━━━━━━━━━━━━━━━━━━━━\u001b[0m \u001b[32m71.6/71.6 kB\u001b[0m \u001b[31m2.6 MB/s\u001b[0m eta \u001b[36m0:00:00\u001b[0m\n",
            "\u001b[?25hDownloading art-6.4-py3-none-any.whl (608 kB)\n",
            "\u001b[?25l   \u001b[90m━━━━━━━━━━━━━━━━━━━━━━━━━━━━━━━━━━━━━━━━\u001b[0m \u001b[32m0.0/608.6 kB\u001b[0m \u001b[31m?\u001b[0m eta \u001b[36m-:--:--\u001b[0m\r\u001b[2K   \u001b[90m━━━━━━━━━━━━━━━━━━━━━━━━━━━━━━━━━━━━━━━━\u001b[0m \u001b[32m608.6/608.6 kB\u001b[0m \u001b[31m18.0 MB/s\u001b[0m eta \u001b[36m0:00:00\u001b[0m\n",
            "\u001b[?25hInstalling collected packages: art\n",
            "Successfully installed art-6.4\n"
          ]
        }
      ]
    },
    {
      "cell_type": "code",
      "execution_count": 4,
      "metadata": {
        "colab": {
          "base_uri": "https://localhost:8080/"
        },
        "id": "koAThfV62xn_",
        "outputId": "7c4d94d9-db5d-4a56-ead1-c713971ad38a"
      },
      "outputs": [
        {
          "output_type": "stream",
          "name": "stdout",
          "text": [
            "Requirement already satisfied: art in /usr/local/lib/python3.11/dist-packages (6.4)\n",
            "__        __       _                                 _            _    _             _   _                    _                    ____                         _                  ____                          _ \n",
            "\\ \\      / /  ___ | |  ___   ___   _ __ ___    ___  | |_   ___   | |_ | |__    ___  | \\ | | _   _  _ __ ___  | |__    ___  _ __   / ___| _   _   ___  ___  ___ (_) _ __    __ _   / ___|  __ _  _ __ ___    ___ | |\n",
            " \\ \\ /\\ / /  / _ \\| | / __| / _ \\ | '_ ` _ \\  / _ \\ | __| / _ \\  | __|| '_ \\  / _ \\ |  \\| || | | || '_ ` _ \\ | '_ \\  / _ \\| '__| | |  _ | | | | / _ \\/ __|/ __|| || '_ \\  / _` | | |  _  / _` || '_ ` _ \\  / _ \\| |\n",
            "  \\ V  V /  |  __/| || (__ | (_) || | | | | ||  __/ | |_ | (_) | | |_ | | | ||  __/ | |\\  || |_| || | | | | || |_) ||  __/| |    | |_| || |_| ||  __/\\__ \\\\__ \\| || | | || (_| | | |_| || (_| || | | | | ||  __/|_|\n",
            "   \\_/\\_/    \\___||_| \\___| \\___/ |_| |_| |_| \\___|  \\__| \\___/   \\__||_| |_| \\___| |_| \\_| \\__,_||_| |_| |_||_.__/  \\___||_|     \\____| \\__,_| \\___||___/|___/|_||_| |_| \\__, |  \\____| \\__,_||_| |_| |_| \\___|(_)\n",
            "                                                                                                                                                                          |___/                                    \n",
            "\n",
            "I'm thinking of a number between 1 and 100.\n",
            "Choose a difficulty. Type 'easy' or 'hard': easy\n",
            "You have 10 attempts remaining to guess the number.\n",
            "Make a guess: 69\n",
            "Too high.\n",
            "Guess again.\n",
            "You have 9 attempts remaining to guess the number.\n",
            "Make a guess: 21\n",
            "Too high.\n",
            "Guess again.\n",
            "You have 8 attempts remaining to guess the number.\n",
            "Make a guess: 6\n",
            "Too low.\n",
            "Guess again.\n",
            "You have 7 attempts remaining to guess the number.\n",
            "Make a guess: 14\n",
            "Too low.\n",
            "Guess again.\n",
            "You have 6 attempts remaining to guess the number.\n",
            "Make a guess: 16\n",
            "You got it! The answer was 16.\n"
          ]
        }
      ],
      "source": [
        "!pip install art\n",
        "from art import *\n",
        "from random import randint\n",
        "\n",
        "\n",
        "EASY_LEVEL_TURNS = 10\n",
        "HARD_LEVEL_TURNS = 5\n",
        "\n",
        "def check_answer(guess, answer, turns):\n",
        "  \"\"\"checks answer against guess. Returns the number of turns remaining.\"\"\"\n",
        "  if guess > answer:\n",
        "    print(\"Too high.\")\n",
        "    return turns - 1\n",
        "  elif guess < answer:\n",
        "    print(\"Too low.\")\n",
        "    return turns - 1\n",
        "  else:\n",
        "    print(f\"You got it! The answer was {answer}.\")\n",
        "\n",
        "def set_difficulty():\n",
        "  level = input(\"Choose a difficulty. Type 'easy' or 'hard': \")\n",
        "  if level == \"easy\":\n",
        "    return EASY_LEVEL_TURNS\n",
        "  else:\n",
        "    return HARD_LEVEL_TURNS\n",
        "\n",
        "def game():\n",
        "  tprint(\"Welcome to the Number Guessing Game!\") #use tprint instead of print(logo)\n",
        "\n",
        "  print(\"I'm thinking of a number between 1 and 100.\")\n",
        "  answer = randint(1, 100)\n",
        "\n",
        "  turns = set_difficulty()\n",
        "\n",
        "  guess = 0\n",
        "  while guess != answer:\n",
        "    print(f\"You have {turns} attempts remaining to guess the number.\")\n",
        "\n",
        "    guess = int(input(\"Make a guess: \"))\n",
        "\n",
        "    turns = check_answer(guess, answer, turns)\n",
        "    if turns == 0:\n",
        "      print(\"You've run out of guesses, you lose.\")\n",
        "      return\n",
        "    elif guess != answer:\n",
        "      print(\"Guess again.\")\n",
        "\n",
        "\n",
        "game()"
      ]
    }
  ]
}