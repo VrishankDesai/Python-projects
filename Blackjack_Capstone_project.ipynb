{
  "nbformat": 4,
  "nbformat_minor": 0,
  "metadata": {
    "colab": {
      "provenance": [],
      "authorship_tag": "ABX9TyPjQkE3qFRBrQQWJGMLZlQ5",
      "include_colab_link": true
    },
    "kernelspec": {
      "name": "python3",
      "display_name": "Python 3"
    },
    "language_info": {
      "name": "python"
    }
  },
  "cells": [
    {
      "cell_type": "markdown",
      "metadata": {
        "id": "view-in-github",
        "colab_type": "text"
      },
      "source": [
        "<a href=\"https://colab.research.google.com/github/VrishankDesai/Python-projects/blob/main/Blackjack_Capstone_project.ipynb\" target=\"_parent\"><img src=\"https://colab.research.google.com/assets/colab-badge.svg\" alt=\"Open In Colab\"/></a>"
      ]
    },
    {
      "cell_type": "code",
      "source": [
        "!pip install art"
      ],
      "metadata": {
        "colab": {
          "base_uri": "https://localhost:8080/"
        },
        "id": "dLZK6efg1UGc",
        "outputId": "36d029d1-1936-4a1e-d09a-83250799648f"
      },
      "execution_count": 2,
      "outputs": [
        {
          "output_type": "stream",
          "name": "stdout",
          "text": [
            "Collecting art\n",
            "  Downloading art-6.4-py3-none-any.whl.metadata (71 kB)\n",
            "\u001b[?25l     \u001b[90m━━━━━━━━━━━━━━━━━━━━━━━━━━━━━━━━━━━━━━━━\u001b[0m \u001b[32m0.0/71.6 kB\u001b[0m \u001b[31m?\u001b[0m eta \u001b[36m-:--:--\u001b[0m\r\u001b[2K     \u001b[90m━━━━━━━━━━━━━━━━━━━━━━━━━━━━━━━━━━━━━━━━\u001b[0m \u001b[32m71.6/71.6 kB\u001b[0m \u001b[31m1.9 MB/s\u001b[0m eta \u001b[36m0:00:00\u001b[0m\n",
            "\u001b[?25hDownloading art-6.4-py3-none-any.whl (608 kB)\n",
            "\u001b[?25l   \u001b[90m━━━━━━━━━━━━━━━━━━━━━━━━━━━━━━━━━━━━━━━━\u001b[0m \u001b[32m0.0/608.6 kB\u001b[0m \u001b[31m?\u001b[0m eta \u001b[36m-:--:--\u001b[0m\r\u001b[2K   \u001b[91m━━━━━━━━━━━━━━━━━━━━━━━━━━━━\u001b[0m\u001b[91m╸\u001b[0m\u001b[90m━━━━━━━━━━━\u001b[0m \u001b[32m440.3/608.6 kB\u001b[0m \u001b[31m13.1 MB/s\u001b[0m eta \u001b[36m0:00:01\u001b[0m\r\u001b[2K   \u001b[90m━━━━━━━━━━━━━━━━━━━━━━━━━━━━━━━━━━━━━━━━\u001b[0m \u001b[32m608.6/608.6 kB\u001b[0m \u001b[31m11.6 MB/s\u001b[0m eta \u001b[36m0:00:00\u001b[0m\n",
            "\u001b[?25hInstalling collected packages: art\n",
            "Successfully installed art-6.4\n"
          ]
        }
      ]
    },
    {
      "cell_type": "code",
      "execution_count": 8,
      "metadata": {
        "colab": {
          "base_uri": "https://localhost:8080/"
        },
        "id": "1K64No-91BNO",
        "outputId": "409b5bf8-e003-4116-83d8-39df0aecee19"
      },
      "outputs": [
        {
          "name": "stdout",
          "output_type": "stream",
          "text": [
            "                        _      \n",
            "  ___   __ _  _ __   __| | ___ \n",
            " / __| / _` || '__| / _` |/ __|\n",
            "| (__ | (_| || |   | (_| |\\__ \\\n",
            " \\___| \\__,_||_|    \\__,_||___/\n",
            "                               \n",
            "\n",
            "Do you want to play a game of Blackjack? Type 'y' or 'n': y\n",
            "Your cards: [8, 10], current score: 18\n",
            "Computer's first card: 8\n",
            "Type 'y' to get another card, type 'n'to pass: y\n",
            "Your cards: [8, 10, 11], current score: 29\n",
            "Computer's first card: 8, current score: 18\n",
            "Type 'y' to get another card, type 'n'to pass: y\n",
            "Your cards: [8, 10, 11, 10], current score: 39\n",
            "Computer's first card: 8, current score: 18\n",
            "Type 'y' to get another card, type 'n'to pass: n\n",
            "Your final hand: [8, 10, 11, 10], final score: 39.\n",
            "Computer's final hand: [8, 10], final score: 18\n",
            "Computer wins!\n",
            "Would you like to play again? Type 'yes' or 'no'no\n"
          ]
        }
      ],
      "source": [
        "from art import tprint\n",
        "import os\n",
        "import random\n",
        "\n",
        "def clear():\n",
        "    os.system('cls' if os.name == 'nt' else 'clear')\n",
        "\n",
        "tprint(\"cards\")\n",
        "\n",
        "def blackjack():\n",
        "  play_game = input(\"Do you want to play a game of Blackjack? Type 'y' or 'n': \")\n",
        "\n",
        "  player_cards = []\n",
        "  computer_cards = []\n",
        "  cards =  [11, 2, 3, 4, 5, 6, 7, 8, 9, 10, 10, 10, 10]\n",
        "   #Detect when computer or user has a blackjack.\n",
        "  def ace_number():\n",
        "    if cards[0] in player_cards or computer_cards:\n",
        "      if sum(computer_cards) > 21 and sum(player_cards) > 21:\n",
        "        cards[0] = 1\n",
        "      elif sum(computer_cards) > 21 or sum(player_cards) > 21:\n",
        "        cards[0] = 1\n",
        "\n",
        "  for card in range(2):\n",
        "    player_cards.append(random.choice(cards))\n",
        "    computer_cards.append(random.choice(cards))\n",
        "    totalplayer = sum(player_cards)\n",
        "    totalcomputer = sum(computer_cards)\n",
        "    ace_number()\n",
        "  print(f\"Your cards: {player_cards}, current score: {totalplayer}\")\n",
        "  print(f\"Computer's first card: {computer_cards[0]}\")\n",
        "\n",
        "  play_game = True\n",
        "  while play_game:\n",
        "    another_card = input(\"Type 'y' to get another card, type 'n'to pass: \")\n",
        "    if another_card == \"y\":\n",
        "      player_cards.append(random.choice(cards))\n",
        "      totalplayer = sum(player_cards)\n",
        "      print(f\"Your cards: {player_cards}, current score: {totalplayer}\")\n",
        "      print(f\"Computer's first card: {computer_cards[0]}, current score: {totalcomputer}\")\n",
        "    else:\n",
        "      while totalcomputer < 16:\n",
        "        computer_cards.append(random.choice(cards))\n",
        "        totalcomputer = sum(computer_cards)\n",
        "      print(f\"Your final hand: {player_cards}, final score: {totalplayer}.\")\n",
        "      print(f\"Computer's final hand: {computer_cards}, final score: {totalcomputer}\")\n",
        "      play_game = False\n",
        "\n",
        "  if totalcomputer == 21 and totalplayer == 21:\n",
        "    print(\"Computer wins!\")\n",
        "    play_game = False\n",
        "  elif totalcomputer == 21:\n",
        "    print(\"Computer wins!\")\n",
        "    play_game = False\n",
        "  elif totalplayer == 21:\n",
        "    print(\"You win!\")\n",
        "    play_game = False\n",
        "  elif totalcomputer > 21:\n",
        "    print(\"You win!\")\n",
        "    play_game = False\n",
        "  elif totalplayer > 21:\n",
        "    print(\"Computer wins!\")\n",
        "    play_game = False\n",
        "  elif totalcomputer > totalplayer or totalplayer > 21:\n",
        "    print(\"Computer wins!\")\n",
        "  elif totalcomputer < totalplayer:\n",
        "    print(\"You win!\")\n",
        "  elif totalcomputer == totalplayer:\n",
        "    print(\"It's a draw!\")\n",
        "\n",
        "  playagain = input(\"Would you like to play again? Type 'yes' or 'no'\").lower()\n",
        "  if playagain == \"no\":\n",
        "      play_game = False\n",
        "  elif playagain == \"yes\":\n",
        "      clear()\n",
        "      blackjack()\n",
        "\n",
        "blackjack()"
      ]
    }
  ]
}