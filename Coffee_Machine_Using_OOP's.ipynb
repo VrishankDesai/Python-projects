{
  "nbformat": 4,
  "nbformat_minor": 0,
  "metadata": {
    "colab": {
      "provenance": [],
      "authorship_tag": "ABX9TyPe+QQSgKkMSdsRBXLd/SlD",
      "include_colab_link": true
    },
    "kernelspec": {
      "name": "python3",
      "display_name": "Python 3"
    },
    "language_info": {
      "name": "python"
    }
  },
  "cells": [
    {
      "cell_type": "markdown",
      "metadata": {
        "id": "view-in-github",
        "colab_type": "text"
      },
      "source": [
        "<a href=\"https://colab.research.google.com/github/VrishankDesai/Python-projects/blob/main/Coffee_Machine_Using_OOP's.ipynb\" target=\"_parent\"><img src=\"https://colab.research.google.com/assets/colab-badge.svg\" alt=\"Open In Colab\"/></a>"
      ]
    },
    {
      "cell_type": "code",
      "source": [
        "class CoffeeMaker:\n",
        "    \"\"\"Models the machine that makes the coffee\"\"\"\n",
        "    def __init__(self):\n",
        "        self.resources = {\n",
        "            \"water\": 300,\n",
        "            \"milk\": 200,\n",
        "            \"coffee\": 100,\n",
        "        }\n",
        "\n",
        "    def report(self):\n",
        "        \"\"\"Prints a report of all resources.\"\"\"\n",
        "        print(f\"Water: {self.resources['water']}ml\")\n",
        "        print(f\"Milk: {self.resources['milk']}ml\")\n",
        "        print(f\"Coffee: {self.resources['coffee']}g\")\n",
        "\n",
        "    def is_resource_sufficient(self, drink):\n",
        "        \"\"\"Returns True when order can be made, False if ingredients are insufficient.\"\"\"\n",
        "        can_make = True\n",
        "        for item in drink.ingredients:\n",
        "            if drink.ingredients[item] > self.resources[item]:\n",
        "                print(f\"Sorry there is not enough {item}.\")\n",
        "                can_make = False\n",
        "        return can_make\n",
        "\n",
        "    def make_coffee(self, order):\n",
        "        \"\"\"Deducts the required ingredients from the resources.\"\"\"\n",
        "        for item in order.ingredients:\n",
        "            self.resources[item] -= order.ingredients[item]\n",
        "        print(f\"Here is your {order.name} ☕️. Enjoy!\")"
      ],
      "metadata": {
        "id": "5ONQiSlgCLup"
      },
      "execution_count": 5,
      "outputs": []
    },
    {
      "cell_type": "code",
      "source": [
        "class MenuItem:\n",
        "    \"\"\"Models each Menu Item.\"\"\"\n",
        "    def __init__(self, name, water, milk, coffee, cost):\n",
        "        self.name = name\n",
        "        self.cost = cost\n",
        "        self.ingredients = {\n",
        "            \"water\": water,\n",
        "            \"milk\": milk,\n",
        "            \"coffee\": coffee\n",
        "        }\n",
        "\n",
        "class Menu:\n",
        "    \"\"\"Models the Menu with drinks.\"\"\"\n",
        "    def __init__(self):\n",
        "        self.menu = [\n",
        "            MenuItem(name=\"latte\", water=200, milk=150, coffee=24, cost=2.5),\n",
        "            MenuItem(name=\"espresso\", water=50, milk=0, coffee=18, cost=1.5),\n",
        "            MenuItem(name=\"cappuccino\", water=250, milk=50, coffee=24, cost=3),\n",
        "        ]\n",
        "\n",
        "    def get_items(self):\n",
        "        \"\"\"Returns all the names of the available menu items\"\"\"\n",
        "        options = \"\"\n",
        "        for item in self.menu:\n",
        "            options += f\"{item.name}/\"\n",
        "        return options\n",
        "\n",
        "    def find_drink(self, order_name):\n",
        "        \"\"\"Searches the menu for a particular drink by name. Returns that item if it exists, otherwise returns None\"\"\"\n",
        "        for item in self.menu:\n",
        "            if item.name == order_name:\n",
        "                return item\n",
        "        print(\"Sorry that item is not available.\")"
      ],
      "metadata": {
        "id": "r7EvqHtjCNiB"
      },
      "execution_count": 6,
      "outputs": []
    },
    {
      "cell_type": "code",
      "source": [
        "class MoneyMachine:\n",
        "\n",
        "    CURRENCY = \"$\"\n",
        "\n",
        "    COIN_VALUES = {\n",
        "        \"quarters\": 0.25,\n",
        "        \"dimes\": 0.10,\n",
        "        \"nickles\": 0.05,\n",
        "        \"pennies\": 0.01\n",
        "    }\n",
        "\n",
        "    def __init__(self):\n",
        "        self.profit = 0\n",
        "        self.money_received = 0\n",
        "\n",
        "    def report(self):\n",
        "        \"\"\"Prints the current profit\"\"\"\n",
        "        print(f\"Money: {self.CURRENCY}{self.profit}\")\n",
        "\n",
        "    def process_coins(self):\n",
        "        \"\"\"Returns the total calculated from coins inserted.\"\"\"\n",
        "        print(\"Please insert coins.\")\n",
        "        for coin in self.COIN_VALUES:\n",
        "            self.money_received += int(input(f\"How many {coin}?: \")) * self.COIN_VALUES[coin]\n",
        "        return self.money_received\n",
        "\n",
        "    def make_payment(self, cost):\n",
        "        \"\"\"Returns True when payment is accepted, or False if insufficient.\"\"\"\n",
        "        self.process_coins()\n",
        "        if self.money_received >= cost:\n",
        "            change = round(self.money_received - cost, 2)\n",
        "            print(f\"Here is {self.CURRENCY}{change} in change.\")\n",
        "            self.profit += cost\n",
        "            self.money_received = 0\n",
        "            return True\n",
        "        else:\n",
        "            print(\"Sorry that's not enough money. Money refunded.\")\n",
        "            self.money_received = 0\n",
        "            return False"
      ],
      "metadata": {
        "id": "78uVJpu6CRQJ"
      },
      "execution_count": 7,
      "outputs": []
    },
    {
      "cell_type": "code",
      "source": [
        "from menu import Menu, MenuItem\n",
        "from coffee_maker import CoffeeMaker\n",
        "from money_machine import MoneyMachine\n",
        "\n",
        "money = 0\n",
        "machine_open = True\n",
        "coffee = CoffeeMaker()\n",
        "ingred = MenuItem\n",
        "menu = Menu()\n",
        "process = MoneyMachine()\n",
        "\n",
        "\n",
        "while machine_open:\n",
        "    choice = input(\"What would you like? (espresso/latte/cappuccino)? \")\n",
        "    if choice == \"off\":\n",
        "        machine_open = False\n",
        "    elif choice == \"report\":\n",
        "      coffee.report()\n",
        "      process.report()\n",
        "    else:\n",
        "      drink = menu.find_drink(choice)\n",
        "      if coffee.is_resource_sufficient(drink):\n",
        "        # process.process_coins()\n",
        "        if process.make_payment(drink.cost):\n",
        "          coffee.make_coffee(drink)"
      ],
      "metadata": {
        "colab": {
          "base_uri": "https://localhost:8080/",
          "height": 384
        },
        "id": "YSp_T6IvCahA",
        "outputId": "ac924a98-bbbe-4a42-ea5c-301ab76a2a5a"
      },
      "execution_count": 10,
      "outputs": [
        {
          "output_type": "error",
          "ename": "ModuleNotFoundError",
          "evalue": "No module named 'menu'",
          "traceback": [
            "\u001b[0;31m---------------------------------------------------------------------------\u001b[0m",
            "\u001b[0;31mModuleNotFoundError\u001b[0m                       Traceback (most recent call last)",
            "\u001b[0;32m<ipython-input-10-b56f6c06f1e3>\u001b[0m in \u001b[0;36m<cell line: 0>\u001b[0;34m()\u001b[0m\n\u001b[0;32m----> 1\u001b[0;31m \u001b[0;32mfrom\u001b[0m \u001b[0mmenu\u001b[0m \u001b[0;32mimport\u001b[0m \u001b[0mMenu\u001b[0m\u001b[0;34m,\u001b[0m \u001b[0mMenuItem\u001b[0m\u001b[0;34m\u001b[0m\u001b[0;34m\u001b[0m\u001b[0m\n\u001b[0m\u001b[1;32m      2\u001b[0m \u001b[0;32mfrom\u001b[0m \u001b[0mcoffee_maker\u001b[0m \u001b[0;32mimport\u001b[0m \u001b[0mCoffeeMaker\u001b[0m\u001b[0;34m\u001b[0m\u001b[0;34m\u001b[0m\u001b[0m\n\u001b[1;32m      3\u001b[0m \u001b[0;32mfrom\u001b[0m \u001b[0mmoney_machine\u001b[0m \u001b[0;32mimport\u001b[0m \u001b[0mMoneyMachine\u001b[0m\u001b[0;34m\u001b[0m\u001b[0;34m\u001b[0m\u001b[0m\n\u001b[1;32m      4\u001b[0m \u001b[0;34m\u001b[0m\u001b[0m\n\u001b[1;32m      5\u001b[0m \u001b[0mmoney\u001b[0m \u001b[0;34m=\u001b[0m \u001b[0;36m0\u001b[0m\u001b[0;34m\u001b[0m\u001b[0;34m\u001b[0m\u001b[0m\n",
            "\u001b[0;31mModuleNotFoundError\u001b[0m: No module named 'menu'",
            "",
            "\u001b[0;31m---------------------------------------------------------------------------\u001b[0;32m\nNOTE: If your import is failing due to a missing package, you can\nmanually install dependencies using either !pip or !apt.\n\nTo view examples of installing some common dependencies, click the\n\"Open Examples\" button below.\n\u001b[0;31m---------------------------------------------------------------------------\u001b[0m\n"
          ],
          "errorDetails": {
            "actions": [
              {
                "action": "open_url",
                "actionText": "Open Examples",
                "url": "/notebooks/snippets/importing_libraries.ipynb"
              }
            ]
          }
        }
      ]
    }
  ]
}