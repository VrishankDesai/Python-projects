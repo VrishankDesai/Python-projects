{
  "nbformat": 4,
  "nbformat_minor": 0,
  "metadata": {
    "colab": {
      "provenance": [],
      "authorship_tag": "ABX9TyPsb/z4agdQ9GqSLmLF0uKI",
      "include_colab_link": true
    },
    "kernelspec": {
      "name": "python3",
      "display_name": "Python 3"
    },
    "language_info": {
      "name": "python"
    }
  },
  "cells": [
    {
      "cell_type": "markdown",
      "metadata": {
        "id": "view-in-github",
        "colab_type": "text"
      },
      "source": [
        "<a href=\"https://colab.research.google.com/github/VrishankDesai/Python-projects/blob/main/Secret_auction_program.ipynb\" target=\"_parent\"><img src=\"https://colab.research.google.com/assets/colab-badge.svg\" alt=\"Open In Colab\"/></a>"
      ]
    },
    {
      "cell_type": "code",
      "execution_count": 6,
      "metadata": {
        "colab": {
          "base_uri": "https://localhost:8080/"
        },
        "id": "06orgzDzsmHh",
        "outputId": "59c25f29-7587-4a8a-c0ec-690a0665db28"
      },
      "outputs": [
        {
          "output_type": "stream",
          "name": "stdout",
          "text": [
            "Requirement already satisfied: art in /usr/local/lib/python3.11/dist-packages (6.4)\n",
            " _      _      _ \n",
            "| |__  (_)  __| |\n",
            "| '_ \\ | | / _` |\n",
            "| |_) || || (_| |\n",
            "|_.__/ |_| \\__,_|\n",
            "                 \n",
            "\n",
            "Welcome to the secret auction program.\n",
            "What is your name?: Vrishank\n",
            "What's your bid?: $50\n",
            "Are there any other bidders? Type 'yes' or 'no'.\n",
            "yes\n",
            "\u001b[H\u001b[2JWhat is your name?: Gandhi\n",
            "What's your bid?: $0\n",
            "Are there any other bidders? Type 'yes' or 'no'.\n",
            "no\n",
            "\u001b[H\u001b[2JThe winner is Vrishank with a bid of 50\n",
            "{'Vrishank': 50, 'Gandhi': 0}\n"
          ]
        }
      ],
      "source": [
        "!pip install art\n",
        "from replit import clear\n",
        "from art import text2art\n",
        "\n",
        "logo = text2art(\"bid\")\n",
        "\n",
        "print(logo)\n",
        "\n",
        "print(\"Welcome to the secret auction program.\")\n",
        "\n",
        "keep_bidding = True\n",
        "total_bids = {}\n",
        "\n",
        "\n",
        "def all_bidders():\n",
        "  highest_bidder = max(total_bids, key=total_bids.get)\n",
        "  all_bids = total_bids.values()\n",
        "  max_bid = max(all_bids)\n",
        "  print(f\"The winner is {highest_bidder} with a bid of {max_bid}\")\n",
        "\n",
        "\n",
        "while keep_bidding:\n",
        "  bidder = input(\"What is your name?: \").title()\n",
        "  bid_amount = int(input(\"What's your bid?: $\"))\n",
        "  total_bids[bidder] = bid_amount\n",
        "  other_bids = input(\"Are there any other bidders? Type 'yes' or 'no'.\\n\" ).lower()\n",
        "  if other_bids == \"no\":\n",
        "    keep_bidding = False\n",
        "    clear()\n",
        "    all_bidders()\n",
        "  else:\n",
        "    clear()\n",
        "\n",
        "print(total_bids)"
      ]
    }
  ]
}