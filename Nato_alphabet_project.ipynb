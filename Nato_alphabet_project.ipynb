{
  "nbformat": 4,
  "nbformat_minor": 0,
  "metadata": {
    "colab": {
      "provenance": [],
      "authorship_tag": "ABX9TyOjtHuqH7XODqYyndSfQ7Uf",
      "include_colab_link": true
    },
    "kernelspec": {
      "name": "python3",
      "display_name": "Python 3"
    },
    "language_info": {
      "name": "python"
    }
  },
  "cells": [
    {
      "cell_type": "markdown",
      "metadata": {
        "id": "view-in-github",
        "colab_type": "text"
      },
      "source": [
        "<a href=\"https://colab.research.google.com/github/VrishankDesai/Python-projects/blob/main/Nato_alphabet_project.ipynb\" target=\"_parent\"><img src=\"https://colab.research.google.com/assets/colab-badge.svg\" alt=\"Open In Colab\"/></a>"
      ]
    },
    {
      "cell_type": "code",
      "execution_count": 1,
      "metadata": {
        "colab": {
          "base_uri": "https://localhost:8080/"
        },
        "id": "JuNxXXiyAyIx",
        "outputId": "e5f0f06b-8ae9-4dcc-92b4-516f6b0b8284"
      },
      "outputs": [
        {
          "output_type": "stream",
          "name": "stdout",
          "text": [
            "Enter a word: hello\n",
            "['Hotel', 'Echo', 'Lima', 'Lima', 'Oscar']\n"
          ]
        }
      ],
      "source": [
        "import pandas\n",
        "\n",
        "nato_data = pandas.read_csv(\"/content/nato_phonetic_alphabet.csv\")\n",
        "\n",
        "nato_dict = {row.letter: row.code for (index, row) in nato_data.iterrows()}\n",
        "input_word = input(\"Enter a word: \").upper()\n",
        "answer = [nato_dict[letter] for letter in input_word]\n",
        "print(answer)"
      ]
    }
  ]
}